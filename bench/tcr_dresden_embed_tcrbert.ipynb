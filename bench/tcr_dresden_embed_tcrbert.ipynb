{
 "cells": [
  {
   "cell_type": "code",
   "execution_count": null,
   "id": "e06fc86a-e16b-4145-80e3-fc0e53bf46bb",
   "metadata": {
    "tags": []
   },
   "outputs": [],
   "source": [
    "from contextlib import ExitStack\n",
    "\n",
    "import numpy as np\n",
    "import pandas as pd\n",
    "import torch\n",
    "from sentence_transformers import SentenceTransformer\n",
    "from sentence_transformers.models import Transformer, Pooling\n",
    "from torch.utils.data import DataLoader\n",
    "\n",
    "from immune_embeddings.data import get_data_root\n",
    "from immune_embeddings.data.titan_to_tcrbert import get_tcrbert_tokenizer\n",
    "from tqdm.notebook import tqdm\n",
    "\n",
    "import itertools"
   ]
  },
  {
   "cell_type": "code",
   "execution_count": null,
   "id": "8db6264a-ec22-4934-be85-7d6ba3dd0cfe",
   "metadata": {
    "tags": []
   },
   "outputs": [],
   "source": [
    "es = ExitStack()\n",
    "es.enter_context(torch.no_grad())"
   ]
  },
  {
   "cell_type": "code",
   "execution_count": null,
   "id": "3a298131-b5d2-4df5-a1f0-bd47fca67ec3",
   "metadata": {
    "tags": []
   },
   "outputs": [],
   "source": [
    "data_dir = get_data_root() / \"tcr\" / \"raw_cdr\""
   ]
  },
  {
   "cell_type": "code",
   "execution_count": null,
   "id": "a3703a2c-6036-45d5-8e14-20dea1e3ec38",
   "metadata": {
    "tags": []
   },
   "outputs": [],
   "source": [
    "data_df = pd.read_csv(data_dir/  \"dresden_tcr.csv\", index_col=0)"
   ]
  },
  {
   "cell_type": "code",
   "execution_count": null,
   "id": "ed05f5fd-1809-4d7d-9f59-4662c4c66f23",
   "metadata": {
    "tags": []
   },
   "outputs": [],
   "source": [
    "tok = get_tcrbert_tokenizer()\n",
    "tr = Transformer(\"wukevin/tcr-bert-mlm-only\").to(\"cuda\")\n",
    "L=8\n",
    "tr.auto_model.encoder.layer=tr.auto_model.encoder.layer[:L]\n",
    "pooling=Pooling(word_embedding_dimension=tr.get_word_embedding_dimension(), pooling_mode='mean')"
   ]
  },
  {
   "cell_type": "code",
   "execution_count": null,
   "id": "3dfd9b57-b648-483d-8614-409dfeb1a69a",
   "metadata": {
    "tags": []
   },
   "outputs": [],
   "source": [
    "model = SentenceTransformer(modules=[tr,pooling]).to(\"cuda\")"
   ]
  },
  {
   "cell_type": "code",
   "execution_count": null,
   "id": "b306b622-d8f6-4433-8c4d-550dc8bfc8e4",
   "metadata": {
    "tags": []
   },
   "outputs": [],
   "source": [
    "def compute_embeddings(sequence_col):\n",
    "    example_sequences = list(data_df[sequence_col].unique())\n",
    "    dl = DataLoader(example_sequences, batch_size=128, num_workers=4, prefetch_factor=3, shuffle=False)\n",
    "\n",
    "    data = {'seq': [],'embedding': []}\n",
    "    for batch in tqdm(dl):\n",
    "        prepared_batch = [\" \".join(list(s)) for s in batch]\n",
    "        batch_inputs = {k: v.to(\"cuda\") for k, v in tok(\n",
    "            prepared_batch, return_tensors=\"pt\", return_token_type_ids=False, padding='max_length', max_length=64).items() }\n",
    "        embeddings = model(batch_inputs)[\"sentence_embedding\"]\n",
    "        data['seq'].append(batch)\n",
    "        data['embedding'].append(embeddings.cpu().numpy())\n",
    "\n",
    "    sequences = list(itertools.chain.from_iterable(data['seq']))\n",
    "    embeddings = np.concatenate(data['embedding'],axis=0)\n",
    "    out_df = pd.DataFrame({sequence_col: sequences, f'{sequence_col}_TCRBERT_L{L}': list(embeddings)})\n",
    "    return out_df "
   ]
  },
  {
   "cell_type": "code",
   "execution_count": null,
   "id": "10ba3c45-fe8c-4c72-9861-8f5ba83c890a",
   "metadata": {
    "tags": []
   },
   "outputs": [],
   "source": [
    "trb_cdr3_df = compute_embeddings(\"TRB_CDR3\")"
   ]
  },
  {
   "cell_type": "code",
   "execution_count": null,
   "id": "40762337-c76a-4369-8706-ea76870f7773",
   "metadata": {
    "tags": []
   },
   "outputs": [],
   "source": [
    "data_and_embeddings_df = data_df.merge(trb_cdr3_df, on=\"TRB_CDR3\")"
   ]
  },
  {
   "cell_type": "code",
   "execution_count": null,
   "id": "75dae21e-6b44-4e41-b56d-b697bf0ac6cb",
   "metadata": {
    "tags": []
   },
   "outputs": [],
   "source": [
    "data_and_embeddings_df.to_pickle(data_dir / f\"dresden_data_tcrbert_l{L}.pkl\")"
   ]
  }
 ],
 "metadata": {
  "kernelspec": {
   "display_name": "Python 3 (ipykernel)",
   "language": "python",
   "name": "python3"
  },
  "language_info": {
   "codemirror_mode": {
    "name": "ipython",
    "version": 3
   },
   "file_extension": ".py",
   "mimetype": "text/x-python",
   "name": "python",
   "nbconvert_exporter": "python",
   "pygments_lexer": "ipython3",
   "version": "3.10.6"
  }
 },
 "nbformat": 4,
 "nbformat_minor": 5
}
