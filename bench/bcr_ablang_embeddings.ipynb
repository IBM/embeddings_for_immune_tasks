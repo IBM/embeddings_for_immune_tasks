{
 "cells": [
  {
   "cell_type": "code",
   "execution_count": null,
   "id": "aa513323-7f06-4b7e-ab78-5a782b861392",
   "metadata": {
    "tags": []
   },
   "outputs": [],
   "source": [
    "import numpy as np\n",
    "from tqdm.autonotebook import tqdm\n",
    "import pandas as pd\n",
    "import ablang\n",
    "from pathlib import Path\n",
    "from time import time, sleep\n",
    "import torch"
   ]
  },
  {
   "cell_type": "code",
   "execution_count": null,
   "id": "4473c20f-2585-4dd1-80f6-a0158211ae7c",
   "metadata": {
    "tags": []
   },
   "outputs": [],
   "source": [
    "cwd = Path.cwd()"
   ]
  },
  {
   "cell_type": "code",
   "execution_count": null,
   "id": "8b2af332-37df-4607-85f8-a0083b5f35b9",
   "metadata": {
    "tags": []
   },
   "outputs": [],
   "source": [
    "data_path = Path.cwd().parent / 'data' /'bcr' / 'bcells_guikema' / 'sequences'\n",
    "assert data_path.exists()"
   ]
  },
  {
   "cell_type": "code",
   "execution_count": null,
   "id": "b0863025-3efe-4d67-851f-1dd4f97b4356",
   "metadata": {
    "tags": []
   },
   "outputs": [],
   "source": [
    "savedir = data_path"
   ]
  },
  {
   "cell_type": "code",
   "execution_count": null,
   "id": "f2480e4a-e0c7-41d9-b293-f1ba2ef9dbfd",
   "metadata": {
    "tags": []
   },
   "outputs": [],
   "source": [
    "input_files = list(data_path.glob(\"*Nt_info.csv\"))"
   ]
  },
  {
   "cell_type": "code",
   "execution_count": null,
   "id": "675b0428-81eb-4bfc-b716-e6a2c957a023",
   "metadata": {
    "tags": []
   },
   "outputs": [],
   "source": [
    "def compute_embeddings(model, aa_seq, sz=10000):\n",
    "    with torch.no_grad():\n",
    "        embeddings = model(aa_seq, mode='seqcoding', splitSize=sz).astype(np.float32)\n",
    "    return embeddings"
   ]
  },
  {
   "cell_type": "code",
   "execution_count": null,
   "id": "7e7aa698-0c85-46ce-a86e-a9b79326f524",
   "metadata": {
    "tags": []
   },
   "outputs": [],
   "source": [
    "def preprocess_df(data_df):\n",
    "    data_df = data_df.loc[~data_df.Sequence_AA.str.contains(\"\\*\")]\n",
    "    data_df = data_df.assign(Sequence_AA=data_df.Sequence_AA.str.replace(\"X\",\"*\"))\n",
    "    return data_df"
   ]
  },
  {
   "cell_type": "code",
   "execution_count": null,
   "id": "2f4d2ff7-c982-45f8-a47b-a04d635979dc",
   "metadata": {
    "tags": []
   },
   "outputs": [],
   "source": [
    "sz=10000\n",
    "ncpu = 56\n",
    "\n",
    "heavy_ablang = ablang.pretrained(\"heavy\", device=f'cuda:0', ncpu=ncpu)\n",
    "heavy_ablang.freeze()\n",
    "\n",
    "for data_file in tqdm(input_files):\n",
    "    df = preprocess_df(pd.read_csv(data_file, sep=\"\\t\", index_col=\"Sequence ID\"))\n",
    "    end = 0\n",
    "    size = 10000\n",
    "    start = -size\n",
    "    finished = False\n",
    "    batch_idx = 0\n",
    "    df_embeddings = pd.DataFrame()\n",
    "\n",
    "    while not finished:\n",
    "        start+=size\n",
    "        end+=size\n",
    "        batch_idx+=1\n",
    "        if end > len(df):\n",
    "            end = len(df)\n",
    "            finished = True\n",
    "\n",
    "        batch_df = df.iloc[start:end]\n",
    "\n",
    "        embeddings=compute_embeddings(heavy_ablang, batch_df.Sequence_AA,sz=sz)\n",
    "        batch_df = batch_df.assign( \n",
    "            ablang_embedding = list(embeddings)\n",
    "        )\n",
    "\n",
    "        df_embeddings = pd.concat([df_embeddings, batch_df]) \n",
    "        save_subdir = savedir / data_file.stem\n",
    "        save_subdir.mkdir(exist_ok=True, parents=True)\n",
    "        batch_df.to_pickle(save_subdir / f\"df_ablang_embeddings_{batch_idx}_.pkl\" )\n",
    "\n",
    "    df_embeddings.to_pickle(savedir / f\"df_ablang_embeddings_{data_file.stem}.pkl\")"
   ]
  }
 ],
 "metadata": {
  "kernelspec": {
   "display_name": "Python 3 (ipykernel)",
   "language": "python",
   "name": "python3"
  },
  "language_info": {
   "codemirror_mode": {
    "name": "ipython",
    "version": 3
   },
   "file_extension": ".py",
   "mimetype": "text/x-python",
   "name": "python",
   "nbconvert_exporter": "python",
   "pygments_lexer": "ipython3",
   "version": "3.10.6"
  }
 },
 "nbformat": 4,
 "nbformat_minor": 5
}
