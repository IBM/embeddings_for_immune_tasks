{
 "cells": [
  {
   "cell_type": "code",
   "execution_count": null,
   "id": "aa513323-7f06-4b7e-ab78-5a782b861392",
   "metadata": {
    "tags": []
   },
   "outputs": [],
   "source": [
    "from umap import UMAP\n",
    "import seaborn as sns\n",
    "import matplotlib.pyplot as plt\n",
    "import numpy as np\n",
    "from tqdm.autonotebook import tqdm\n",
    "import pandas as pd\n",
    "import ablang\n",
    "from pathlib import Path\n",
    "import os\n",
    "from time import time\n",
    "from itertools import pairwise\n",
    "from multiprocessing.pool import ThreadPool\n",
    "import torch\n",
    "from time import sleep"
   ]
  },
  {
   "cell_type": "code",
   "execution_count": null,
   "id": "4473c20f-2585-4dd1-80f6-a0158211ae7c",
   "metadata": {
    "tags": []
   },
   "outputs": [],
   "source": [
    "cwd = Path.cwd()"
   ]
  },
  {
   "cell_type": "code",
   "execution_count": null,
   "id": "8b2af332-37df-4607-85f8-a0083b5f35b9",
   "metadata": {
    "tags": []
   },
   "outputs": [],
   "source": [
    "data_path = Path.cwd().parent / 'data' / 'antibody' / 'covid_alphaseq'\n",
    "data_file = data_path / 'MITLL_AAlphaBio_Ab_Binding_dataset.csv'"
   ]
  },
  {
   "cell_type": "code",
   "execution_count": null,
   "id": "b0863025-3efe-4d67-851f-1dd4f97b4356",
   "metadata": {
    "tags": []
   },
   "outputs": [],
   "source": [
    "savedir = data_path"
   ]
  },
  {
   "cell_type": "code",
   "execution_count": null,
   "id": "c1c30099-2123-4966-94c2-ff674fd8b8ef",
   "metadata": {
    "tags": []
   },
   "outputs": [],
   "source": [
    "df_raw = pd.read_csv(data_file)\n",
    "seqs = pd.read_csv(data_path / \"sequence_uuids.csv\", index_col=0)\n",
    "hcs = pd.read_csv(data_path / \"hc_uuids.csv\", index_col=0)\n",
    "lcs = pd.read_csv(data_path / \"lc_uuids.csv\", index_col=0)\n",
    "df=df_raw.merge(seqs, on=\"Sequence\")\n",
    "df=df.merge(hcs, on=\"HC\")\n",
    "df=df.merge(lcs, on=\"LC\")"
   ]
  },
  {
   "cell_type": "code",
   "execution_count": null,
   "id": "8ab73faa-9761-47e2-9e3b-e50f10db5b39",
   "metadata": {
    "tags": []
   },
   "outputs": [],
   "source": [
    "heavy_ablang = ablang.pretrained(\"heavy\", device=f'cuda:0', ncpu=2)\n",
    "heavy_ablang.freeze()"
   ]
  },
  {
   "cell_type": "code",
   "execution_count": null,
   "id": "675b0428-81eb-4bfc-b716-e6a2c957a023",
   "metadata": {
    "tags": []
   },
   "outputs": [],
   "source": [
    "def compute_embeddings(model, hc, sz=200):\n",
    "    with torch.no_grad():\n",
    "        embeddings = model(hc, mode='seqcoding', splitSize=sz).astype(np.float32)\n",
    "    return embeddings"
   ]
  },
  {
   "cell_type": "code",
   "execution_count": null,
   "id": "2f4d2ff7-c982-45f8-a47b-a04d635979dc",
   "metadata": {
    "tags": []
   },
   "outputs": [],
   "source": [
    "end = 0\n",
    "size = 50000\n",
    "start = -size\n",
    "finished = False\n",
    "batch_idx = 0\n",
    "df_embeddings = pd.DataFrame()\n",
    "pbar = tqdm(total=len(df))\n",
    "pbar.set_description_str(f\"Batch {batch_idx}: {100*end/len(df):.2f}%\")\n",
    "\n",
    "while not finished:\n",
    "    start+=size\n",
    "    end+=size\n",
    "    batch_idx+=1\n",
    "    if end > len(df):\n",
    "        end = len(df)\n",
    "        finished = True\n",
    "        break\n",
    "\n",
    "    batch_df = df.iloc[start:end]\n",
    "\n",
    "    embeddings=compute_embeddings(heavy_ablang, batch_df.HC)\n",
    "    batch_df = batch_df.assign(hc_ablang_embedding = list(embeddings))\n",
    "    df_embeddings = pd.concat([df_embeddings, batch_df])\n",
    "\n",
    "    pbar.set_description_str(f\"Batch {batch_idx}: {100*end/len(df):.2f}%\")\n",
    "    pbar.update(n=end-start)\n",
    "\n",
    "df_embeddings.to_pickle(savedir / \"df_ablang_embeddings_hc.pkl\")\n",
    "pbar.close()"
   ]
  }
 ],
 "metadata": {
  "kernelspec": {
   "display_name": "Python 3 (ipykernel)",
   "language": "python",
   "name": "python3"
  },
  "language_info": {
   "codemirror_mode": {
    "name": "ipython",
    "version": 3
   },
   "file_extension": ".py",
   "mimetype": "text/x-python",
   "name": "python",
   "nbconvert_exporter": "python",
   "pygments_lexer": "ipython3",
   "version": "3.10.6"
  }
 },
 "nbformat": 4,
 "nbformat_minor": 5
}
