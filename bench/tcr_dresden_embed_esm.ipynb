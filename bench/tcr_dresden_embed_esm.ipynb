{
 "cells": [
  {
   "cell_type": "code",
   "execution_count": null,
   "id": "ac0bb390-4b4b-4834-a8b5-842437b0ea21",
   "metadata": {
    "tags": []
   },
   "outputs": [],
   "source": [
    "import itertools\n",
    "from contextlib import ExitStack\n",
    "\n",
    "import numpy as np\n",
    "import pandas as pd\n",
    "import torch\n",
    "from torch.utils.data import DataLoader\n",
    "from tqdm.notebook import tqdm\n",
    "\n",
    "from immune_embeddings.data import get_data_root\n",
    "from immune_embeddings.data.covid_to_esm import EmbedTokensESM\n",
    "from immune_embeddings.models.embeddings.esm import ESMEmbeddingModel"
   ]
  },
  {
   "cell_type": "code",
   "execution_count": null,
   "id": "5ac78e66-40ec-49f0-8f38-0b25ed9d9a8c",
   "metadata": {
    "tags": []
   },
   "outputs": [],
   "source": [
    "es = ExitStack()\n",
    "es.enter_context(torch.no_grad())"
   ]
  },
  {
   "cell_type": "code",
   "execution_count": null,
   "id": "9260497c-0da5-4fe9-9a66-14915f670d34",
   "metadata": {
    "tags": []
   },
   "outputs": [],
   "source": [
    "data_dir = get_data_root() / \"tcr\" / \"raw_cdr\""
   ]
  },
  {
   "cell_type": "code",
   "execution_count": null,
   "id": "31edf3bd-89b4-484d-b045-4f8a0de86669",
   "metadata": {
    "tags": []
   },
   "outputs": [],
   "source": [
    "data_df = pd.read_csv(data_dir / \"dresden_tcr.csv\", index_col=0)"
   ]
  },
  {
   "cell_type": "code",
   "execution_count": null,
   "id": "b4488377-52a0-403b-9ab8-3c0fe5d07979",
   "metadata": {
    "tags": []
   },
   "outputs": [],
   "source": [
    "model_size = \"3B\"\n",
    "model_depth = 36\n",
    "repr_layer = 36\n",
    "model_id = f\"esm2_t{model_depth}_{model_size}_UR50D\""
   ]
  },
  {
   "cell_type": "code",
   "execution_count": null,
   "id": "521090e6-a5db-4525-8847-6642f575c919",
   "metadata": {
    "tags": []
   },
   "outputs": [],
   "source": [
    "model = ESMEmbeddingModel(model_id=model_id,repr_layer=repr_layer,fixed_size=True,freeze_weights=True)\n",
    "model = model.to(\"cuda\")"
   ]
  },
  {
   "cell_type": "code",
   "execution_count": null,
   "id": "83faae6d-c38f-4b2d-a4d5-e3c9d5316f2c",
   "metadata": {
    "tags": []
   },
   "outputs": [],
   "source": [
    "tokenizer = EmbedTokensESM(model_id=model_id)"
   ]
  },
  {
   "cell_type": "code",
   "execution_count": null,
   "id": "e100eb2b-2bfd-42bf-951d-ab911022c074",
   "metadata": {
    "tags": []
   },
   "outputs": [],
   "source": [
    "def compute_embeddings(sequence_col):\n",
    "    example_sequences = list(enumerate(data_df[sequence_col].unique()))\n",
    "    dl = DataLoader(example_sequences,batch_size=128,num_workers=4,prefetch_factor=3,shuffle=False)\n",
    "\n",
    "    data = {\"seq\": [], \"embedding\": []}\n",
    "\n",
    "    for batch in tqdm(dl):\n",
    "        ids = batch[0]\n",
    "        sequences = batch[1]\n",
    "        batch_inputs = {k: v.to(\"cuda\") for k, v in tokenizer(protein_sequences=sequences, sequence_ids=ids).items()}\n",
    "        embeddings = model(batch_inputs)\n",
    "        data[\"seq\"].append(sequences)\n",
    "        data[\"embedding\"].append(embeddings.cpu().numpy())\n",
    "\n",
    "    sequences = list(itertools.chain.from_iterable(data[\"seq\"]))\n",
    "    embeddings = np.concatenate(data[\"embedding\"], axis=0)\n",
    "    out_df = pd.DataFrame({sequence_col: sequences, f\"{sequence_col}_ESM\": list(embeddings)})\n",
    "    return out_df"
   ]
  },
  {
   "cell_type": "code",
   "execution_count": null,
   "id": "cfa19330-ed80-4651-bf57-75581f41ff24",
   "metadata": {
    "tags": []
   },
   "outputs": [],
   "source": [
    "trb_cdr3_df_esm = compute_embeddings(\"TRB_CDR3\")\n",
    "tra_cdr3_df_esm = compute_embeddings(\"TRA_CDR3\")\n",
    "data_embeddings_df = data_df.merge(trb_cdr3_df_esm, on=\"TRB_CDR3\").merge(tra_cdr3_df_esm, on=\"TRA_CDR3\")"
   ]
  },
  {
   "cell_type": "code",
   "execution_count": null,
   "id": "f6e84807-67a6-4d58-a9d0-52dc74be524e",
   "metadata": {
    "tags": []
   },
   "outputs": [],
   "source": [
    "data_embeddings_df.to_pickle(data_dir / f\"dresden_esm_{model_size}_L{repr_layer}.pkl\")"
   ]
  }
 ],
 "metadata": {
  "kernelspec": {
   "display_name": "Python 3 (ipykernel)",
   "language": "python",
   "name": "python3"
  },
  "language_info": {
   "codemirror_mode": {
    "name": "ipython",
    "version": 3
   },
   "file_extension": ".py",
   "mimetype": "text/x-python",
   "name": "python",
   "nbconvert_exporter": "python",
   "pygments_lexer": "ipython3",
   "version": "3.10.6"
  }
 },
 "nbformat": 4,
 "nbformat_minor": 5
}
